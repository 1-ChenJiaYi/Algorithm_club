{
 "cells": [
  {
   "cell_type": "code",
   "execution_count": 3,
   "id": "6a6d5251",
   "metadata": {},
   "outputs": [],
   "source": [
    "from collections import OrderedDict\n"
   ]
  },
  {
   "cell_type": "code",
   "execution_count": 4,
   "id": "3e9d7bb5",
   "metadata": {},
   "outputs": [],
   "source": [
    "ee = OrderedDict() \n",
    "ee['esd'] = 1 \n",
    "ee['asdad'] = 2 "
   ]
  },
  {
   "cell_type": "code",
   "execution_count": 6,
   "id": "825ec018",
   "metadata": {},
   "outputs": [],
   "source": [
    "import heapq \n"
   ]
  },
  {
   "cell_type": "code",
   "execution_count": 30,
   "id": "fcc025ec",
   "metadata": {},
   "outputs": [],
   "source": [
    "q = [1, 2, 3, 4] \n",
    "heapq.heapify(q) "
   ]
  },
  {
   "cell_type": "code",
   "execution_count": 31,
   "id": "2f97e340",
   "metadata": {},
   "outputs": [],
   "source": [
    "heapq.heappush(q, 100) "
   ]
  },
  {
   "cell_type": "code",
   "execution_count": 44,
   "id": "f527ff52",
   "metadata": {},
   "outputs": [],
   "source": [
    "import sys \n",
    "IO = lambda: sys.stdin.readline()\n"
   ]
  },
  {
   "cell_type": "code",
   "execution_count": null,
   "id": "21bb103c",
   "metadata": {},
   "outputs": [],
   "source": [
    "IO()"
   ]
  }
 ],
 "metadata": {
  "kernelspec": {
   "display_name": "base",
   "language": "python",
   "name": "python3"
  },
  "language_info": {
   "codemirror_mode": {
    "name": "ipython",
    "version": 3
   },
   "file_extension": ".py",
   "mimetype": "text/x-python",
   "name": "python",
   "nbconvert_exporter": "python",
   "pygments_lexer": "ipython3",
   "version": "3.9.7"
  }
 },
 "nbformat": 4,
 "nbformat_minor": 5
}
